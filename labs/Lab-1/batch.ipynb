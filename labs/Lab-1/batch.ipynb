{
 "cells": [
  {
   "cell_type": "code",
   "execution_count": 1,
   "id": "8f7426d4",
   "metadata": {},
   "outputs": [
    {
     "name": "stdout",
     "output_type": "stream",
     "text": [
      "data created\n"
     ]
    }
   ],
   "source": [
    "import csv\n",
    "\n",
    "data=[[\"order_id\",\"customer_id\",\"order_date\",\"product\",\"quantity\",\"price\"],\n",
    "      [1, 101, \"2025-01-15\", \"Mobile\", 2, 500],\n",
    "    [2, 102, \"2025-01-20\", \"Laptop\", 1, 1200],\n",
    "    [3, 103, \"2025-02-05\", \"Tablet\", 3, 300],\n",
    "    [4, 101, \"2025-02-08\", \"Mobile\", 1, 500],\n",
    "    [5, 104, \"2025-02-10\", \"Headphones\", 5, 50],\n",
    "]\n",
    "\n",
    "with open(\"sales_data.csv\",\"w\",newline=\"\") as f:\n",
    "    writer=csv.writer(f)\n",
    "    writer.writerows(data)\n",
    "\n",
    "print(\"data created\")"
   ]
  },
  {
   "cell_type": "code",
   "execution_count": null,
   "id": "059f7e8b",
   "metadata": {},
   "outputs": [
    {
     "name": "stdout",
     "output_type": "stream",
     "text": [
      "✅ Batch processing complete. Results saved as product_revenue.csv, top_customers.csv, and monthly_orders.csv.\n"
     ]
    }
   ],
   "source": [
    "import pandas as pd\n",
    "\n",
    "\n",
    "df = pd.read_csv(\"sales_data.csv\")\n",
    "\n",
    "df.dropna(inplace=True)\n",
    "\n",
    "\n",
    "df[\"quantity\"] = pd.to_numeric(df[\"quantity\"], errors=\"coerce\")\n",
    "df[\"price\"] = pd.to_numeric(df[\"price\"], errors=\"coerce\")\n",
    "\n",
    "# Drop rows again if conversion created NaN\n",
    "df.dropna(subset=[\"quantity\", \"price\"], inplace=True)\n",
    "\n",
    "# Add a revenue column\n",
    "df[\"revenue\"] = df[\"quantity\"] * df[\"price\"]\n",
    "\n",
    "# 3. Aggregations\n",
    "\n",
    "# (a) Total revenue per product\n",
    "product_revenue = df.groupby(\"product\")[\"revenue\"].sum().reset_index()\n",
    "product_revenue = product_revenue.sort_values(by=\"revenue\", ascending=False)\n",
    "\n",
    "# (b) Top 5 customers by total spending\n",
    "top_customers = df.groupby(\"customer_id\")[\"revenue\"].sum().reset_index()\n",
    "top_customers = top_customers.sort_values(by=\"revenue\", ascending=False).head(5)\n",
    "\n",
    "# (c) Number of orders per month\n",
    "df[\"order_date\"] = pd.to_datetime(df[\"order_date\"], errors=\"coerce\")\n",
    "monthly_orders = df.groupby(df[\"order_date\"].dt.to_period(\"M\"))[\"order_id\"].count().reset_index()\n",
    "monthly_orders.rename(columns={\"order_id\": \"order_count\", \"order_date\": \"month\"}, inplace=True)\n",
    "monthly_orders[\"month\"] = monthly_orders[\"month\"].astype(str)  # convert Period to string for CSV\n",
    "\n",
    "# 4. Output to CSV files\n",
    "product_revenue.to_csv(\"product_revenue.csv\", index=False)\n",
    "top_customers.to_csv(\"top_customers.csv\", index=False)\n",
    "monthly_orders.to_csv(\"monthly_orders.csv\", index=False)\n",
    "\n",
    "print(\"✅ Batch processing complete. Results saved as product_revenue.csv, top_customers.csv, and monthly_orders.csv.\")\n"
   ]
  }
 ],
 "metadata": {
  "kernelspec": {
   "display_name": "Python 3",
   "language": "python",
   "name": "python3"
  },
  "language_info": {
   "codemirror_mode": {
    "name": "ipython",
    "version": 3
   },
   "file_extension": ".py",
   "mimetype": "text/x-python",
   "name": "python",
   "nbconvert_exporter": "python",
   "pygments_lexer": "ipython3",
   "version": "3.9.6"
  }
 },
 "nbformat": 4,
 "nbformat_minor": 5
}
